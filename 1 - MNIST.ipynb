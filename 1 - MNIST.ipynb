{
 "cells": [
  {
   "cell_type": "markdown",
   "metadata": {},
   "source": [
    "# 1. MNIST dataset\n",
    "\n",
    "In de eerste opdracht trainen we een simpel neuraal netwerk met Keras. De dataset die we hiervoor gebruiken is MNIST. Deze dataset bestaat uit grijswaarde plaatjes van cijfers. Elk plaatje is 28×28 pixels.\n",
    "\n",
    "## Over deze tutorial\n",
    "\n",
    "Deze tutorial maakt gebruik van [Jupyter notebooks](http://nbviewer.jupyter.org/github/jupyter/notebook/blob/master/docs/source/examples/Notebook/Notebook%20Basics.ipynb). Wat je moet weten voor nu:\n",
    "* De programeertaal is Python 3\n",
    "* Een notebook bestaat uit meerdere cellen onder elkaar.\n",
    "* Voer de cellen uit van boven naar beneden, en pas aan of voeg cellen toe waar nodig.\n",
    "* Voor het uitvoeren van een cel: `Shift + Enter`\n",
    "* Voor het toevoegen van cellen: druk op de knop `[+] Code`.\n",
    "\n",
    "## Bibliotheken\n",
    "\n",
    "Voordat we kunnen beginnen moeten een aantal bibliotheken worden geïmporteerd."
   ]
  },
  {
   "cell_type": "code",
   "execution_count": null,
   "metadata": {},
   "outputs": [],
   "source": [
    "# We gebruiken Keras\n",
    "import keras\n",
    "from keras.models import Sequential\n",
    "from keras.layers import Dense, Dropout, Flatten\n",
    "from keras.layers import Conv2D, MaxPooling2D\n",
    "# En numpy voor het werken met arrays\n",
    "import numpy as np\n",
    "# pyplot voor het tekenen van plaatjes en grafieken.\n",
    "import matplotlib.pyplot as plt\n",
    "%matplotlib inline"
   ]
  },
  {
   "cell_type": "markdown",
   "metadata": {},
   "source": [
    "## Dataset inladen\n",
    "Eerst zullen we de dataset inladen. De MNIST dataset is standaard beschikbaar in Keras."
   ]
  },
  {
   "cell_type": "code",
   "execution_count": null,
   "metadata": {},
   "outputs": [],
   "source": [
    "from keras.datasets import mnist\n",
    "\n",
    "# the data, split between train and test sets\n",
    "(x_train, y_train), (x_test, y_test) = mnist.load_data()\n",
    "\n",
    "# Shape of the data\n",
    "img_rows, img_cols = 28, 28\n",
    "\n",
    "x_train = x_train.reshape(x_train.shape[0], img_rows, img_cols, 1)\n",
    "x_test  = x_test.reshape(x_test.shape[0],   img_rows, img_cols, 1)\n",
    "input_shape = (img_rows, img_cols, 1)\n",
    "\n",
    "# Normalize images\n",
    "x_train = x_train.astype('float32') / 255\n",
    "x_test = x_test.astype('float32') / 255\n",
    "\n",
    "print('x_train shape:', x_train.shape)\n",
    "print(x_train.shape[0], 'train samples')\n",
    "print(x_test.shape[0], 'test samples')\n",
    "\n",
    "# convert class vectors to binary class matrices\n",
    "num_classes = 10\n",
    "y_train_mat = keras.utils.to_categorical(y_train, num_classes)\n",
    "y_test_mat = keras.utils.to_categorical(y_test, num_classes)"
   ]
  },
  {
   "cell_type": "code",
   "execution_count": null,
   "metadata": {},
   "outputs": [],
   "source": [
    "# Toon de eerste paar plaatjes uit de training set, en de bijbehorende labels\n",
    "plt.figure(None,(18,18))\n",
    "for i in range(10):\n",
    "  plt.subplot(1,10,i+1)\n",
    "  plt.imshow(x_train[i].reshape(28,28),\"Greys\") # Toon x_train[i]\n",
    "plt.show()\n",
    "# De bijbehorende labels\n",
    "print(\"Labels:\",y_train[0:10])"
   ]
  },
  {
   "cell_type": "markdown",
   "metadata": {},
   "source": [
    "## Een model bouwen en trainen\n",
    "Nu bouwen we een keras model, en trainen dit op de training set.\n",
    "\n",
    "Let op dat GPU acceleration ingeschakeld staat, anders duurt dit trainen erg lang (probeer maar eens)."
   ]
  },
  {
   "cell_type": "code",
   "execution_count": null,
   "metadata": {},
   "outputs": [],
   "source": [
    "model = Sequential()\n",
    "model.add(Conv2D(32, kernel_size=(3, 3), activation='relu', input_shape=input_shape))\n",
    "model.add(Conv2D(64, (3,3), activation='relu'))\n",
    "model.add(MaxPooling2D(pool_size=(2, 2)))\n",
    "model.add(Dropout(0.25))\n",
    "model.add(Flatten())\n",
    "model.add(Dense(128, activation='relu'))\n",
    "model.add(Dropout(0.5))\n",
    "model.add(Dense(num_classes, activation='softmax'))\n",
    "\n",
    "model.compile(loss=keras.losses.categorical_crossentropy,\n",
    "              optimizer=keras.optimizers.Adadelta(),\n",
    "              metrics=['accuracy'])\n",
    "\n",
    "# Train 10 epochs met batches van 128 samples\n",
    "batch_size = 128\n",
    "epochs = 10\n",
    "\n",
    "history = model.fit(x_train, y_train_mat,\n",
    "                    batch_size=batch_size,\n",
    "                    epochs=epochs,\n",
    "                    verbose=1,\n",
    "                    validation_data=(x_test, y_test_mat))\n",
    "\n",
    "# Hoe goed werkt het model op de testset\n",
    "score = model.evaluate(x_test, y_test_mat, verbose=0)\n",
    "print('Test loss:', score[0])\n",
    "print('Test accuracy:', score[1])"
   ]
  },
  {
   "cell_type": "code",
   "execution_count": null,
   "metadata": {},
   "outputs": [],
   "source": [
    "# Plot van de accuracy tijdens het trainen\n",
    "plt.plot(history.epoch,history.history['acc'],label=\"Training accuracy\")\n",
    "plt.plot(history.epoch,history.history['val_acc'],label=\"Validation accuracy\")\n",
    "plt.xlabel(\"Epoch\")\n",
    "plt.ylabel(\"Accuracy\")\n",
    "plt.show()\n",
    "\n",
    "plt.plot(history.epoch,history.history['loss'],label=\"Training loss\")\n",
    "plt.plot(history.epoch,history.history['val_loss'],label=\"Validation loss\")\n",
    "plt.xlabel(\"Epoch\")\n",
    "plt.ylabel(\"Loss\")\n",
    "plt.show()"
   ]
  },
  {
   "cell_type": "markdown",
   "metadata": {},
   "source": [
    "## Vragen\n",
    "Probeer deze vragen te beantwoorden. Hiervoor moet de bovenstaande code misschien worden aangepast. Eventueel kunnen onderaan dit document extra cellen worden toegevoegd. Tip: je kan een notebook ook gebruiken als rekenmachine.\n",
    "\n",
    "1. De MNIST dataset bestaat uit 60000 plaatjes voor de trainingset en 10000 voor de testset. Kijk naar de accuracy van het model op de testset. Hoeveel plaatjes worden fout geclassificeerd?\n",
    "\n",
    "1. Uit welke lagen bestaat het model? Kan je het model simpeler maken door sommige lagen weg te laten? Gaat de accuracy hierdoor omlaag?\n",
    "\n",
    "1. Kijk naar de training loss. Heeft het zin om langer door te gaan met trainen? Je kunt dit evt. ook uitproberen."
   ]
  },
  {
   "cell_type": "markdown",
   "metadata": {},
   "source": [
    "## Foute classificaties\n",
    "Het neurale netwerk maak maar weinig fouten. We kunnen deze verder bekijken om te zien of deze voor mensen ook lastig te classificeren zijn.\n",
    "\n",
    "Tot nu toe hebben we alleen gekeken naar de accuracy. Om de fouten te vinden moeten we de daadwerkelijke voorspellingen hebben."
   ]
  },
  {
   "cell_type": "code",
   "execution_count": null,
   "metadata": {},
   "outputs": [],
   "source": [
    "# Voorspel de labels op de testset volgens het model\n",
    "predicted_test = model.predict(x_test, batch_size=batch_size)\n",
    "\n",
    "# Het meest waarschijnlijke label\n",
    "best_predicted_test = np.argmax(predicted_test,1)"
   ]
  },
  {
   "cell_type": "code",
   "execution_count": null,
   "metadata": {},
   "outputs": [],
   "source": [
    "# Indices waar het model de fout in gaat \n",
    "wrong = np.argwhere(best_predicted_test != y_test)[:,0]"
   ]
  },
  {
   "cell_type": "code",
   "execution_count": null,
   "metadata": {},
   "outputs": [],
   "source": [
    "# Weergave van een aantal fout voorspelde plaatjes\n",
    "plt.figure(None,(18,18))\n",
    "for i in range(10):\n",
    "  plt.subplot(1,10,i+1)\n",
    "  plt.imshow(x_test[wrong[i]].reshape(28,28),\"Greys\")\n",
    "plt.show()\n",
    "print(\"Echte labels     \", y_test[wrong[0:10]])\n",
    "print(\"Voorspelde labels\", best_predicted_test[wrong[0:10]])"
   ]
  },
  {
   "cell_type": "markdown",
   "metadata": {},
   "source": [
    "## Vragen\n",
    "\n",
    "4. `predicted_test` is een matrix, waar elke rij de voorspelde kans aangeeft dat het bijboherende plaatje in een bepaalde klasse valt. Hierboven is alleen de meest waarschijnlijke klasse gegeven als \"voorspelde label\". Wat is de bijbeherende kans? Is het model zeker van zijn zaak, of wordt de tweede keuze ook waarschijnlijk geacht?"
   ]
  }
 ],
 "metadata": {
  "kernelspec": {
   "display_name": "Python 3",
   "language": "python",
   "name": "python3"
  },
  "language_info": {
   "codemirror_mode": {
    "name": "ipython",
    "version": 3
   },
   "file_extension": ".py",
   "mimetype": "text/x-python",
   "name": "python",
   "nbconvert_exporter": "python",
   "pygments_lexer": "ipython3",
   "version": "3.6.4+"
  }
 },
 "nbformat": 4,
 "nbformat_minor": 2
}
