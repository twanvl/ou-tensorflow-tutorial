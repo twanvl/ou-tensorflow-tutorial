{
 "cells": [
  {
   "cell_type": "markdown",
   "metadata": {},
   "source": [
    "# Een pre-trained netwerk\n",
    "In de tweede opdracht gebruiken we een vooraf getrained netwerk. Door een pre-trained netwerk te gebruiken is er minder data nodig om een nieuwe classifier te trainen.\n",
    "\n",
    "In dit geval gebruiken we ResNet 50. Dit netwerk is getrained op de Imagenet dataset (ILSVRC) met 1000 klassen en meer dan een milioen plaatjes.\n",
    "\n",
    "Bronnen:\n",
    "* https://www.learnopencv.com/keras-tutorial-transfer-learning-using-pre-trained-models/"
   ]
  },
  {
   "cell_type": "code",
   "execution_count": null,
   "metadata": {},
   "outputs": [],
   "source": [
    "## We beginnen met het laden van de TensorFlow en Keras biblotheken.\n",
    "import tensorflow as tf\n",
    "import keras\n",
    "import numpy as np\n",
    "import matplotlib.pyplot as plt\n",
    "%matplotlib inline"
   ]
  },
  {
   "cell_type": "code",
   "execution_count": null,
   "metadata": {},
   "outputs": [],
   "source": [
    "## Laad een pre-trained netwerk\n",
    "from keras.applications.resnet50 import ResNet50, preprocess_input, decode_predictions\n",
    "\n",
    "model = ResNet50(weights='imagenet', input_shape=(224, 224, 3))"
   ]
  },
  {
   "cell_type": "code",
   "execution_count": null,
   "metadata": {},
   "outputs": [],
   "source": [
    "## Download een voorbeeld plaatje\n",
    "from urllib.request import urlopen\n",
    "from io import BytesIO\n",
    "from PIL import Image\n",
    "from keras.preprocessing.image import img_to_array\n",
    "\n",
    "def download_image(url):\n",
    "  img = Image.open(BytesIO(urlopen(url).read()))\n",
    "  img = img.convert(\"RGB\").resize((224,224))\n",
    "  return img_to_array(img)\n",
    "\n",
    "im = download_image(\"http://farm1.static.flickr.com/8/12567442_838940c1f1.jpg\")"
   ]
  },
  {
   "cell_type": "code",
   "execution_count": null,
   "metadata": {
    "scrolled": true
   },
   "outputs": [],
   "source": [
    "plt.figure()\n",
    "plt.imshow(im/255)\n",
    "plt.show()"
   ]
  },
  {
   "cell_type": "code",
   "execution_count": null,
   "metadata": {},
   "outputs": [],
   "source": [
    "# Voorspelling volgens het voorgetrainde netwerk\n",
    "x = np.expand_dims(np.copy(im), axis=0)\n",
    "x = preprocess_input(x) # gebruik de preprocessing die voor het trainen ook gebruikt is\n",
    "preds = model.predict(x)\n",
    "print('Predicted:', decode_predictions(preds, top=3)[0])"
   ]
  },
  {
   "cell_type": "markdown",
   "metadata": {},
   "source": [
    "## Vragen / opdrachten\n",
    "Probeer deze vragen te beantwoorden. Hiervoor moet de bovenstaande code misschien worden aangepast. Eventueel kunnen hieronder extra cellen worden toegevoegd.\n",
    "\n",
    "1. Download zelf een aantal plaatjes, en kijk wat het netwerk hierop voorspelt."
   ]
  },
  {
   "cell_type": "markdown",
   "metadata": {},
   "source": [
    "## Een eigen dataset\n",
    "Voor de rest van deze opdracht kan je een simpele dataset gebruiken met twee klassen. Die kan je als volgt downloaden en openen:"
   ]
  },
  {
   "cell_type": "code",
   "execution_count": null,
   "metadata": {},
   "outputs": [],
   "source": [
    "!wget https://github.com/twanvl/ou-tensorflow-tutorial/raw/master/office-dataset.tar.gz\n",
    "!tar -zxf office-dataset.tar.gz"
   ]
  },
  {
   "cell_type": "code",
   "execution_count": null,
   "metadata": {},
   "outputs": [],
   "source": [
    "nTrain = 99*2\n",
    "ims = np.zeros((nTrain,224,224,3))\n",
    "y   = np.zeros(nTrain)\n",
    "j   = 0\n",
    "for i in range(99):\n",
    "  for dir in [\"mouse\",\"headphones\"]:\n",
    "    img = Image.open(\"images/{}/frame_{:04d}.jpg\".format(dir,i+1))\n",
    "    img = img.convert(\"RGB\").resize((224,224))\n",
    "    ims[j,:,:,:] = img_to_array(img)\n",
    "    y[j] = 0 if dir == \"mouse\" else 1\n",
    "    j += 1"
   ]
  },
  {
   "cell_type": "code",
   "execution_count": null,
   "metadata": {},
   "outputs": [],
   "source": [
    "# dit is de voorspelling van het op imagenet getrainde netwerk op deze dataset\n",
    "x = np.copy(ims)\n",
    "x = preprocess_input(x)\n",
    "preds = model.predict(x)\n",
    "decoded = decode_predictions(preds, top=2)\n",
    "\n",
    "which = [0,1,2,3,7]\n",
    "plt.figure(None,(18,18))\n",
    "for i in range(5):\n",
    "  plt.subplot(1,5,i+1)\n",
    "  plt.imshow(ims[which[i]] / 255)\n",
    "  print('Predicted:', decoded[which[i]])\n",
    "plt.show()"
   ]
  },
  {
   "cell_type": "markdown",
   "metadata": {},
   "source": [
    "## Het netwerk aanpassen voor een eigen probleem\n",
    "In de pratktijk wil je geen honden en katten classificeren, maar heb je vaak een specifiek probleem. Wat je kan doen is een bestaand netwerk nemen, en alleen de laatste laag hiervan aanpassen voor jouw trainingset.\n",
    "\n",
    "Er zijn twee manieren waarop je een pretrained netwerk kan gebruiken voor nieuwe data:\n",
    "1. door nieuwe lagen toe te voegen aan het model.\n",
    "2. door het model te gebruiken als feature extractor, en deze features als invoer te nemen voor een nieuwe classifier.\n",
    "\n",
    "Hier doen we dat tweede.\n",
    "\n",
    "We beginnen opnieuw met ResNet 50, maar nu zonder de laatste laag"
   ]
  },
  {
   "cell_type": "code",
   "execution_count": null,
   "metadata": {},
   "outputs": [],
   "source": [
    "feature_extractor = ResNet50(weights='imagenet', input_shape=(224, 224, 3), include_top=False)"
   ]
  },
  {
   "cell_type": "markdown",
   "metadata": {},
   "source": [
    "Nu gaan we de features van alle testdata extraheren met dit feature extractor netwerk"
   ]
  },
  {
   "cell_type": "code",
   "execution_count": null,
   "metadata": {},
   "outputs": [],
   "source": [
    "x = np.copy(ims)\n",
    "x = preprocess_input(x)\n",
    "features = np.squeeze(feature_extractor.predict(x))"
   ]
  },
  {
   "cell_type": "code",
   "execution_count": null,
   "metadata": {},
   "outputs": [],
   "source": [
    "# Splits in train en testset\n",
    "x_train = features[0:150]\n",
    "y_train = y[0:150]\n",
    "x_test = features[150:]\n",
    "y_test = y[150:]\n",
    "\n",
    "num_classes = 2\n",
    "y_train_mat = keras.utils.to_categorical(y_train, num_classes)\n",
    "y_test_mat = keras.utils.to_categorical(y_test, num_classes)"
   ]
  },
  {
   "cell_type": "code",
   "execution_count": null,
   "metadata": {},
   "outputs": [],
   "source": [
    "# Train een netwerk, net als voor de MNIST dataset\n",
    "from keras import models\n",
    "from keras import layers\n",
    "from keras import optimizers\n",
    " \n",
    "model = models.Sequential()\n",
    "model.add(layers.Dense(256, activation='relu', input_dim=2048))\n",
    "model.add(layers.Dropout(0.5))\n",
    "model.add(layers.Dense(num_classes, activation='softmax'))\n",
    "\n",
    "model.compile(loss=keras.losses.categorical_crossentropy,\n",
    "              optimizer=keras.optimizers.Adadelta(),\n",
    "              metrics=['accuracy'])\n",
    "\n",
    "# Train 10 epochs met batches van 32 samples\n",
    "history = model.fit(x_train, y_train_mat,\n",
    "                    batch_size=32,\n",
    "                    epochs=10,\n",
    "                    verbose=1,\n",
    "                    validation_data=(x_test, y_test_mat))"
   ]
  },
  {
   "cell_type": "markdown",
   "metadata": {},
   "source": [
    "## Vragen / opdrachten\n",
    "\n",
    "2. Hoeveel features worden gextraheerd met ResNet50? (hint: kijk naar `features.shape`)\n",
    "3. Er zitten meerdere voorgetrainde netwerken in Keras. Zie https://keras.io/applications/. Probeer een ander netwerk uit, zijn er verschillen?\n",
    "3. Vindt of maak een eigen dataset en train hierop een classifier."
   ]
  },
  {
   "cell_type": "code",
   "execution_count": null,
   "metadata": {},
   "outputs": [],
   "source": []
  }
 ],
 "metadata": {
  "kernelspec": {
   "display_name": "Python 3",
   "language": "python",
   "name": "python3"
  },
  "language_info": {
   "codemirror_mode": {
    "name": "ipython",
    "version": 3
   },
   "file_extension": ".py",
   "mimetype": "text/x-python",
   "name": "python",
   "nbconvert_exporter": "python",
   "pygments_lexer": "ipython3",
   "version": "3.6.4+"
  }
 },
 "nbformat": 4,
 "nbformat_minor": 2
}
